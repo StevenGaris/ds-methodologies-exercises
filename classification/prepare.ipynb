{
 "cells": [
  {
   "cell_type": "markdown",
   "metadata": {},
   "source": [
    "# Data Preparation"
   ]
  },
  {
   "cell_type": "markdown",
   "metadata": {},
   "source": [
    "### Iris Data\n",
    "\n",
    "- Use the function defined in acquire.py to load the iris data."
   ]
  },
  {
   "cell_type": "code",
   "execution_count": null,
   "metadata": {},
   "outputs": [],
   "source": [
    "import warnings\n",
    "warnings.filterwarnings(\"ignore\")\n",
    "\n",
    "import acquire\n",
    "from sklearn import preprocessing\n",
    "from sklearn.model_selection import train_test_split"
   ]
  },
  {
   "cell_type": "code",
   "execution_count": null,
   "metadata": {},
   "outputs": [],
   "source": [
    "df_iris = acquire.get_iris_data()"
   ]
  },
  {
   "cell_type": "code",
   "execution_count": null,
   "metadata": {},
   "outputs": [],
   "source": [
    "# Drop the species_id and measurement_id columns.\n",
    "\n",
    "# df_iris.drop(['species_id', 'measurement_id'], axis=1, inplace=True)"
   ]
  },
  {
   "cell_type": "code",
   "execution_count": null,
   "metadata": {},
   "outputs": [],
   "source": [
    "# Rename the species_name column to just species.\n",
    "\n",
    "# df_iris.rename(columns={'species_name': 'species'}, inplace=True)"
   ]
  },
  {
   "cell_type": "code",
   "execution_count": null,
   "metadata": {},
   "outputs": [],
   "source": [
    "# Encode the species name using a sklearn label encoder. \n",
    "# Research the inverse_transform method of the label encoder. \n",
    "# How might this be useful? xforms back to original label\n",
    "\n",
    "# le = preprocessing.LabelEncoder()\n",
    "# le.fit(df_iris['species'])\n",
    "# df_iris['species'] = le.transform(df_iris['species'])\n"
   ]
  },
  {
   "cell_type": "code",
   "execution_count": null,
   "metadata": {},
   "outputs": [],
   "source": [
    "# df_iris.head()"
   ]
  },
  {
   "cell_type": "code",
   "execution_count": null,
   "metadata": {},
   "outputs": [],
   "source": [
    "# Create a function named prep_iris that accepts the untransformed iris data, \n",
    "# and returns the data with the transformations above applied.\n",
    "\n",
    "def prep_iris(df):\n",
    "    df_iris.drop(['species_id', 'measurement_id'], axis=1, inplace=True)\n",
    "    df_iris.rename(columns={'species_name': 'species'}, inplace=True)\n",
    "    le = preprocessing.LabelEncoder()\n",
    "    le.fit(df_iris['species'])\n",
    "    df_iris['species_encoded'] = le.transform(df_iris['species'])\n",
    "    return df\n"
   ]
  },
  {
   "cell_type": "code",
   "execution_count": null,
   "metadata": {},
   "outputs": [],
   "source": [
    "prep_iris(df_iris)\n",
    "df_iris.head()"
   ]
  },
  {
   "cell_type": "markdown",
   "metadata": {},
   "source": [
    "# Titanic Data\n",
    "\n",
    "- Use the function you defined in acquire.py to load the titanic data set.\n",
    "\n",
    "- Write the code to perform the operations below. (Do this yourself, don't copy from the curriculum.)\n",
    "\n"
   ]
  },
  {
   "cell_type": "code",
   "execution_count": null,
   "metadata": {},
   "outputs": [],
   "source": []
  },
  {
   "cell_type": "code",
   "execution_count": null,
   "metadata": {},
   "outputs": [],
   "source": [
    "df_titanic = acquire.get_titanic_data()"
   ]
  },
  {
   "cell_type": "code",
   "execution_count": null,
   "metadata": {},
   "outputs": [],
   "source": [
    "df_titanic.head()"
   ]
  },
  {
   "cell_type": "code",
   "execution_count": null,
   "metadata": {},
   "outputs": [],
   "source": [
    "# Handle the missing values in the embark_town and embarked columns.\n",
    "\n",
    "# df_titanic.embark_town.fillna('Other', inplace=True)\n",
    "# df_titanic.embarked.fillna('O', inplace=True)"
   ]
  },
  {
   "cell_type": "code",
   "execution_count": null,
   "metadata": {},
   "outputs": [],
   "source": [
    "df_titanic.isnull().sum()"
   ]
  },
  {
   "cell_type": "code",
   "execution_count": null,
   "metadata": {},
   "outputs": [],
   "source": [
    "# Remove the deck column.\n",
    "\n",
    "# df_titanic.drop(columns='deck', inplace=True)"
   ]
  },
  {
   "cell_type": "code",
   "execution_count": null,
   "metadata": {},
   "outputs": [],
   "source": [
    "df_titanic.head()"
   ]
  },
  {
   "cell_type": "code",
   "execution_count": null,
   "metadata": {},
   "outputs": [],
   "source": [
    "# Use a label encoder to transform the embarked column.\n",
    "\n",
    "# le_titanic = preprocessing.LabelEncoder()\n",
    "# le_titanic.fit(df_titanic['embarked'])\n",
    "# df_titanic['embarked'] = le_titanic.transform(df_titanic['embarked'])"
   ]
  },
  {
   "cell_type": "code",
   "execution_count": null,
   "metadata": {},
   "outputs": [],
   "source": [
    "df_titanic.head()"
   ]
  },
  {
   "cell_type": "code",
   "execution_count": null,
   "metadata": {},
   "outputs": [],
   "source": [
    "# Splitting before we can scale.\n",
    "\n",
    "# train, test = train_test_split(df_titanic, train_size=.7)"
   ]
  },
  {
   "cell_type": "code",
   "execution_count": null,
   "metadata": {},
   "outputs": [],
   "source": [
    "# Scale the age and fare columns using a min max scaler. \n",
    "# Why might this be beneficial? \n",
    "# When might you not want to do this?\n",
    "\n",
    "# mm_scaler = preprocessing.MinMaxScaler()\n",
    "# mm_scaler.fit(train[['age', 'fare']])\n",
    "\n",
    "# train[['age', 'fare']] = mm_scaler.transform(train[['age', 'fare']])\n",
    "# test[['age', 'fare']] = mm_scaler.transform(test[['age', 'fare']])\n"
   ]
  },
  {
   "cell_type": "code",
   "execution_count": null,
   "metadata": {},
   "outputs": [],
   "source": [
    "# Create a function named prep_titanic that accepts the untransformed titanic data, \n",
    "# and returns the data with the transformations above applied.\n",
    "\n",
    "def prep_titanic(df):\n",
    "    df_titanic.embark_town.fillna('Other', inplace=True)\n",
    "    df_titanic.embarked.fillna('O', inplace=True)\n",
    "    df_titanic.drop(columns='deck', inplace=True)\n",
    "    le_titanic = preprocessing.LabelEncoder()\n",
    "    le_titanic.fit(df_titanic['embarked'])\n",
    "    df_titanic['embarked_encode'] = le_titanic.transform(df_titanic['embarked'])\n",
    "    train, test = train_test_split(df_titanic, test_size=.3, random_state=123, stratify=df_titanic[['survived']])\n",
    "    mm_scaler = preprocessing.MinMaxScaler()\n",
    "    mm_scaler.fit(train[['age', 'fare']])\n",
    "    train[['age', 'fare']] = mm_scaler.transform(train[['age', 'fare']])\n",
    "    test[['age', 'fare']] = mm_scaler.transform(test[['age', 'fare']])\n",
    "    return df, train, test\n"
   ]
  },
  {
   "cell_type": "code",
   "execution_count": null,
   "metadata": {},
   "outputs": [],
   "source": [
    "df_titanic, train_df, test_df = prep_titanic(df_titanic)\n",
    "df_titanic.head()\n"
   ]
  },
  {
   "cell_type": "code",
   "execution_count": null,
   "metadata": {},
   "outputs": [],
   "source": [
    "train_df.head()"
   ]
  },
  {
   "cell_type": "code",
   "execution_count": null,
   "metadata": {},
   "outputs": [],
   "source": [
    "test_df.head()"
   ]
  },
  {
   "cell_type": "code",
   "execution_count": null,
   "metadata": {},
   "outputs": [],
   "source": [
    "df_titanic.isnull().sum()"
   ]
  },
  {
   "cell_type": "code",
   "execution_count": null,
   "metadata": {},
   "outputs": [],
   "source": []
  },
  {
   "cell_type": "code",
   "execution_count": null,
   "metadata": {},
   "outputs": [],
   "source": [
    "# def handle_missing_values(df):\n",
    "#     return df_titanic.assign(\n",
    "#         embark_town=df_titanic.embark_town.fillna('Other'),\n",
    "#         embarked=df_titanic.embarked.fillna('O'),\n",
    "#     )\n",
    "\n",
    "# def remove_columns(df):\n",
    "#     return df_titanic.drop(columns=['deck'])\n",
    "\n",
    "# def encode_embarked(df):\n",
    "#     encoder = LabelEncoder()\n",
    "#     encoder.fit(df_titanic.embarked)\n",
    "#     return df_titanic.assign(embarked_encode = encoder.transform(df_titanic.embarked))\n",
    "\n",
    "# def prep_titanic_data(df):\n",
    "#     df_titanic = df\\\n",
    "#         .pipe(handle_missing_values)\\\n",
    "#         .pipe(remove_columns)\\\n",
    "#         .pipe(encode_embarked)\n",
    "#     return df"
   ]
  },
  {
   "cell_type": "code",
   "execution_count": null,
   "metadata": {},
   "outputs": [],
   "source": [
    "# df_titanic = prep_titanic_data(df_titanic)\n",
    "# df_titanic.head()"
   ]
  }
 ],
 "metadata": {
  "kernelspec": {
   "display_name": "Python 3",
   "language": "python",
   "name": "python3"
  },
  "language_info": {
   "codemirror_mode": {
    "name": "ipython",
    "version": 3
   },
   "file_extension": ".py",
   "mimetype": "text/x-python",
   "name": "python",
   "nbconvert_exporter": "python",
   "pygments_lexer": "ipython3",
   "version": "3.7.1"
  }
 },
 "nbformat": 4,
 "nbformat_minor": 2
}
