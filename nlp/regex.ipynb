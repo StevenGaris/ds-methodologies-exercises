{
 "cells": [
  {
   "cell_type": "code",
   "execution_count": 1,
   "metadata": {},
   "outputs": [],
   "source": [
    "import re"
   ]
  },
  {
   "cell_type": "markdown",
   "metadata": {},
   "source": [
    "Write a function named is_vowel. It should accept a string as input and use a regular expression to determine if the passed string is a vowel. While not explicity mentioned in the lesson, you can treat the result of re.search as a boolean value that indicates whether or not the regular expression matches the given string.\n",
    "\n"
   ]
  },
  {
   "cell_type": "code",
   "execution_count": 2,
   "metadata": {},
   "outputs": [
    {
     "name": "stdout",
     "output_type": "stream",
     "text": [
      "a is vowel.\n",
      "A is vowel.\n",
      "b is not vowel.\n",
      "B is not vowel.\n",
      "5 is not vowel.\n"
     ]
    }
   ],
   "source": [
    "def is_vowel(letter):\n",
    "    if re.search(r'[aeiou]', letter, re.IGNORECASE):\n",
    "        return letter + ' is vowel.'\n",
    "    else:\n",
    "        return letter + ' is not vowel.'\n",
    "    \n",
    "print(is_vowel('a'))\n",
    "print(is_vowel('A'))\n",
    "print(is_vowel('b'))\n",
    "print(is_vowel('B'))\n",
    "print(is_vowel('5'))"
   ]
  },
  {
   "cell_type": "markdown",
   "metadata": {},
   "source": [
    "Write a function named is_valid_username that accepts a string as input. A valid username starts with a lowercase letter, and only consists of lowercase letters, numbers, or the _ character. It should also be no longer than 32 characters. The function should return either True or False depending on whether the passed string is a valid username.\n",
    "\n"
   ]
  },
  {
   "cell_type": "code",
   "execution_count": 3,
   "metadata": {},
   "outputs": [
    {
     "name": "stdout",
     "output_type": "stream",
     "text": [
      "False\n",
      "True\n",
      "False\n",
      "True\n",
      "False\n",
      "True\n"
     ]
    }
   ],
   "source": [
    "# Easy way and understandable.\n",
    "\n",
    "def is_valid_username(username):\n",
    "    if len(username) > 32:\n",
    "        return False\n",
    "    elif re.search(r'[A-Z]', username):\n",
    "        return False\n",
    "    elif re.search(r'^\\d', username):\n",
    "        return False\n",
    "    else:\n",
    "        return True\n",
    "    \n",
    "print(is_valid_username('aaaaaaaaaaaaaaaaaaaaaaaaaaaaaaaaa'))\n",
    "print(is_valid_username('codeup'))\n",
    "print(is_valid_username('Codeup'))\n",
    "print(is_valid_username('codeup123'))\n",
    "print(is_valid_username('1codeup'))\n",
    "print(is_valid_username('code_up'))\n"
   ]
  },
  {
   "cell_type": "code",
   "execution_count": 4,
   "metadata": {},
   "outputs": [
    {
     "name": "stdout",
     "output_type": "stream",
     "text": [
      "False\n",
      "True\n",
      "False\n",
      "True\n",
      "False\n",
      "True\n"
     ]
    }
   ],
   "source": [
    "# Gonna forget what this does later on but looks cool.\n",
    "\n",
    "def is_valid_username(username):\n",
    "    if re.search(r'^[a-z][a-z0-9_]{0,31}$', username):\n",
    "        return 'True'\n",
    "    else:\n",
    "        return False\n",
    "    \n",
    "print(is_valid_username('aaaaaaaaaaaaaaaaaaaaaaaaaaaaaaaaa'))\n",
    "print(is_valid_username('codeup'))\n",
    "print(is_valid_username('Codeup'))\n",
    "print(is_valid_username('codeup123'))\n",
    "print(is_valid_username('1codeup'))\n",
    "print(is_valid_username('code_up'))\n",
    "\n"
   ]
  },
  {
   "cell_type": "markdown",
   "metadata": {},
   "source": [
    "Write a regular expression to capture phone numbers. It should match all of the following:\n",
    "\n",
    "- (210) 867 5309\n",
    "- +1 210.867.5309\n",
    "- 867-5309\n",
    "- 210-867-5309\n",
    "\n"
   ]
  },
  {
   "cell_type": "code",
   "execution_count": 5,
   "metadata": {},
   "outputs": [
    {
     "data": {
      "text/plain": [
       "['1', '210', '867', '5309']"
      ]
     },
     "execution_count": 5,
     "metadata": {},
     "output_type": "execute_result"
    }
   ],
   "source": [
    "re.findall(r'\\d+', '+1 210.867.5309')"
   ]
  },
  {
   "cell_type": "code",
   "execution_count": null,
   "metadata": {},
   "outputs": [],
   "source": []
  },
  {
   "cell_type": "markdown",
   "metadata": {},
   "source": [
    "Use regular expressions to convert the dates below to the standardized year-month-day format.\n",
    "\n",
    "- 02/04/19\n",
    "- 02/05/19\n",
    "- 02/06/19\n",
    "- 02/07/19\n",
    "- 02/08/19\n",
    "- 02/09/19\n",
    "- 02/10/19\n"
   ]
  },
  {
   "cell_type": "code",
   "execution_count": null,
   "metadata": {},
   "outputs": [],
   "source": []
  },
  {
   "cell_type": "code",
   "execution_count": null,
   "metadata": {},
   "outputs": [],
   "source": []
  },
  {
   "cell_type": "markdown",
   "metadata": {},
   "source": [
    "Write a regex to extract the various parts of these logfile lines:\n",
    "\n"
   ]
  },
  {
   "cell_type": "code",
   "execution_count": 6,
   "metadata": {},
   "outputs": [],
   "source": [
    "logfile = '''\n",
    "GET /api/v1/sales?page=86 [16/Apr/2019:193452+0000] HTTP/1.1 {200} 510348 \"python-requests/2.21.0\" 97.105.19.58 \n",
    "POST /users_accounts/file-upload [16/Apr/2019:193452+0000] HTTP/1.1 {201} 42 \"User-Agent: Mozilla/5.0 (X11; Fedora; Fedora; Linux x86_64) AppleWebKit/537.36 (KHTML, like Gecko) Chrome/73.0.3683.86 Safari/537.36\" 97.105.19.58 \n",
    "GET /api/v1/items?page=3 [16/Apr/2019:193453+0000] HTTP/1.1 {429} 3561 \"python-requests/2.21.0\" 97.105.19.58\n",
    "'''"
   ]
  },
  {
   "cell_type": "code",
   "execution_count": null,
   "metadata": {},
   "outputs": [],
   "source": []
  },
  {
   "cell_type": "markdown",
   "metadata": {},
   "source": [
    "You can find a list of words on your mac at /usr/share/dict/words. Use this file to answer the following questions:\n",
    "\n",
    "- How many words have at least 3 vowels?\n",
    "- How many words have at least 3 vowels in a row?\n",
    "- How many words have at least 4 consonants in a row?\n",
    "- How many words start and end with the same letter?\n",
    "- How many words start and end with a vowel?\n",
    "- How many words contain the same letter 3 times in a row?\n",
    "- What other interesting patterns in words can you find?\n"
   ]
  },
  {
   "cell_type": "code",
   "execution_count": null,
   "metadata": {},
   "outputs": [],
   "source": []
  },
  {
   "cell_type": "code",
   "execution_count": null,
   "metadata": {},
   "outputs": [],
   "source": []
  },
  {
   "cell_type": "code",
   "execution_count": null,
   "metadata": {},
   "outputs": [],
   "source": []
  },
  {
   "cell_type": "code",
   "execution_count": null,
   "metadata": {},
   "outputs": [],
   "source": []
  },
  {
   "cell_type": "code",
   "execution_count": null,
   "metadata": {},
   "outputs": [],
   "source": []
  },
  {
   "cell_type": "code",
   "execution_count": null,
   "metadata": {},
   "outputs": [],
   "source": []
  },
  {
   "cell_type": "code",
   "execution_count": null,
   "metadata": {},
   "outputs": [],
   "source": []
  }
 ],
 "metadata": {
  "kernelspec": {
   "display_name": "Python 3",
   "language": "python",
   "name": "python3"
  },
  "language_info": {
   "codemirror_mode": {
    "name": "ipython",
    "version": 3
   },
   "file_extension": ".py",
   "mimetype": "text/x-python",
   "name": "python",
   "nbconvert_exporter": "python",
   "pygments_lexer": "ipython3",
   "version": "3.7.1"
  }
 },
 "nbformat": 4,
 "nbformat_minor": 2
}
