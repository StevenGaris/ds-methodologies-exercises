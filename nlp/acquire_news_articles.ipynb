{
 "cells": [
  {
   "cell_type": "code",
   "execution_count": 2,
   "metadata": {},
   "outputs": [],
   "source": [
    "from requests import get\n",
    "from bs4 import BeautifulSoup\n",
    "import os\n",
    "import path\n",
    "import re\n",
    "\n",
    "# Zach's code\n",
    "import acquire_news_articles"
   ]
  },
  {
   "cell_type": "code",
   "execution_count": 3,
   "metadata": {},
   "outputs": [
    {
     "name": "stderr",
     "output_type": "stream",
     "text": [
      "/Users/stevengaris/Desktop/ds_methodologies_exercises/nlp/acquire_news_articles.py:34: UserWarning: No parser was explicitly specified, so I'm using the best available HTML parser for this system (\"lxml\"). This usually isn't a problem, but if you run this code on another system, or in a different virtual environment, it may use a different parser and behave differently.\n",
      "\n",
      "The code that caused this warning is on line 34 of the file /Users/stevengaris/Desktop/ds_methodologies_exercises/nlp/acquire_news_articles.py. To get rid of this warning, pass the additional argument 'features=\"lxml\"' to the BeautifulSoup constructor.\n",
      "\n",
      "  soup = BeautifulSoup(response.text)\n"
     ]
    }
   ],
   "source": [
    "data = acquire_news_articles.get_news_data()"
   ]
  },
  {
   "cell_type": "code",
   "execution_count": 5,
   "metadata": {},
   "outputs": [
    {
     "data": {
      "text/html": [
       "<div>\n",
       "<style scoped>\n",
       "    .dataframe tbody tr th:only-of-type {\n",
       "        vertical-align: middle;\n",
       "    }\n",
       "\n",
       "    .dataframe tbody tr th {\n",
       "        vertical-align: top;\n",
       "    }\n",
       "\n",
       "    .dataframe thead th {\n",
       "        text-align: right;\n",
       "    }\n",
       "</style>\n",
       "<table border=\"1\" class=\"dataframe\">\n",
       "  <thead>\n",
       "    <tr style=\"text-align: right;\">\n",
       "      <th></th>\n",
       "      <th>category</th>\n",
       "      <th>content</th>\n",
       "      <th>title</th>\n",
       "    </tr>\n",
       "  </thead>\n",
       "  <tbody>\n",
       "    <tr>\n",
       "      <th>0</th>\n",
       "      <td>business</td>\n",
       "      <td>Ratan Tata, the Chairman Emeritus of Tata Sons...</td>\n",
       "      <td>Ratan Tata invests in Ola's newly-formed compa...</td>\n",
       "    </tr>\n",
       "    <tr>\n",
       "      <th>1</th>\n",
       "      <td>business</td>\n",
       "      <td>The Reliance Group has accused Rahul Gandhi of...</td>\n",
       "      <td>Malicious lies: Anil Ambani's Reliance on Rahu...</td>\n",
       "    </tr>\n",
       "    <tr>\n",
       "      <th>2</th>\n",
       "      <td>business</td>\n",
       "      <td>After Rahul Gandhi called Anil Ambani a crony ...</td>\n",
       "      <td>Got ₹1L cr of contracts during UPA rule: Relia...</td>\n",
       "    </tr>\n",
       "    <tr>\n",
       "      <th>3</th>\n",
       "      <td>business</td>\n",
       "      <td>On being asked how Congress will fund its NYAY...</td>\n",
       "      <td>No new taxes on the middle class to finance NY...</td>\n",
       "    </tr>\n",
       "    <tr>\n",
       "      <th>4</th>\n",
       "      <td>business</td>\n",
       "      <td>The Supreme Court on Monday stayed the ₹500-cr...</td>\n",
       "      <td>SC stays NGT's ₹500 crore fine on Volkswagen f...</td>\n",
       "    </tr>\n",
       "  </tbody>\n",
       "</table>\n",
       "</div>"
      ],
      "text/plain": [
       "   category                                            content  \\\n",
       "0  business  Ratan Tata, the Chairman Emeritus of Tata Sons...   \n",
       "1  business  The Reliance Group has accused Rahul Gandhi of...   \n",
       "2  business  After Rahul Gandhi called Anil Ambani a crony ...   \n",
       "3  business  On being asked how Congress will fund its NYAY...   \n",
       "4  business  The Supreme Court on Monday stayed the ₹500-cr...   \n",
       "\n",
       "                                               title  \n",
       "0  Ratan Tata invests in Ola's newly-formed compa...  \n",
       "1  Malicious lies: Anil Ambani's Reliance on Rahu...  \n",
       "2  Got ₹1L cr of contracts during UPA rule: Relia...  \n",
       "3  No new taxes on the middle class to finance NY...  \n",
       "4  SC stays NGT's ₹500 crore fine on Volkswagen f...  "
      ]
     },
     "execution_count": 5,
     "metadata": {},
     "output_type": "execute_result"
    }
   ],
   "source": [
    "data.head()"
   ]
  },
  {
   "cell_type": "code",
   "execution_count": null,
   "metadata": {},
   "outputs": [],
   "source": [
    "def scrape_single(article_list):\n",
    "    url = article_list\n",
    "    headers = {'User-Agent': 'Codeup Ada Data Science'}\n",
    "    response = get(url, headers=headers)\n",
    "    soup = BeautifulSoup(response.content, 'html.parser')\n",
    "\n",
    "    single_article = {'title': soup.find('span', itemprop=\"headline\").text,\n",
    "                      'content': soup.find('div', itemprop=\"articleBody\").text,\n",
    "                      'category': re.findall(r'\\w+$', url)[0]}\n",
    "    \n",
    "    return single_article\n",
    "    "
   ]
  },
  {
   "cell_type": "code",
   "execution_count": null,
   "metadata": {},
   "outputs": [],
   "source": [
    "url = 'https://inshorts.com/en/read/business'\n",
    "headers = {'User-Agent': 'Codeup Ada Data Science'}\n",
    "response = get(url, headers=headers)\n",
    "soup = BeautifulSoup(response.content, 'html.parser')\n",
    "article_list = soup.find_all('span', itemprop=\"headline\")"
   ]
  },
  {
   "cell_type": "code",
   "execution_count": null,
   "metadata": {},
   "outputs": [],
   "source": [
    "scrape_single(article_list)"
   ]
  },
  {
   "cell_type": "code",
   "execution_count": null,
   "metadata": {},
   "outputs": [],
   "source": []
  },
  {
   "cell_type": "code",
   "execution_count": null,
   "metadata": {},
   "outputs": [],
   "source": []
  }
 ],
 "metadata": {
  "kernelspec": {
   "display_name": "Python 3",
   "language": "python",
   "name": "python3"
  },
  "language_info": {
   "codemirror_mode": {
    "name": "ipython",
    "version": 3
   },
   "file_extension": ".py",
   "mimetype": "text/x-python",
   "name": "python",
   "nbconvert_exporter": "python",
   "pygments_lexer": "ipython3",
   "version": "3.7.1"
  }
 },
 "nbformat": 4,
 "nbformat_minor": 2
}
