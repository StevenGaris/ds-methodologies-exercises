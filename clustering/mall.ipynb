{
 "cells": [
  {
   "cell_type": "code",
   "execution_count": 1,
   "metadata": {},
   "outputs": [],
   "source": [
    "import acquire_mall\n",
    "import perpare_mall\n"
   ]
  },
  {
   "cell_type": "code",
   "execution_count": 2,
   "metadata": {},
   "outputs": [],
   "source": [
    "df = acquire_mall.get_mall_customers_data()\n",
    "df = perpare_mall.mall_prepared(df)"
   ]
  },
  {
   "cell_type": "code",
   "execution_count": 3,
   "metadata": {},
   "outputs": [
    {
     "name": "stdout",
     "output_type": "stream",
     "text": [
      "- Shape\n",
      "(200, 10)\n",
      "- Head and Tail\n",
      "     customer_id  gender  age  annual_income  spending_score  \\\n",
      "0              1    Male   19             15              39   \n",
      "1              2    Male   21             15              81   \n",
      "2              3  Female   20             16               6   \n",
      "3              4  Female   23             16              77   \n",
      "4              5  Female   31             17              40   \n",
      "195          196  Female   35            120              79   \n",
      "196          197  Female   45            126              28   \n",
      "197          198    Male   32            126              74   \n",
      "198          199    Male   32            137              18   \n",
      "199          200    Male   30            137              83   \n",
      "\n",
      "     customer_id_outliers  age_outliers  annual_income_outliers  \\\n",
      "0                       0             0                    0.00   \n",
      "1                       0             0                    0.00   \n",
      "2                       0             0                    0.00   \n",
      "3                       0             0                    0.00   \n",
      "4                       0             0                    0.00   \n",
      "195                     0             0                    0.00   \n",
      "196                     0             0                    0.00   \n",
      "197                     0             0                    0.00   \n",
      "198                     0             0                    4.25   \n",
      "199                     0             0                    4.25   \n",
      "\n",
      "     spending_score_outliers  age_encoded  \n",
      "0                          0            1  \n",
      "1                          0            3  \n",
      "2                          0            2  \n",
      "3                          0            5  \n",
      "4                          0           13  \n",
      "195                        0           17  \n",
      "196                        0           27  \n",
      "197                        0           14  \n",
      "198                        0           14  \n",
      "199                        0           12  \n",
      "- Numeric Vars\n",
      "       customer_id         age  annual_income  spending_score  \\\n",
      "count   200.000000  200.000000     200.000000      200.000000   \n",
      "mean    100.500000   38.850000      60.560000       50.200000   \n",
      "std      57.879185   13.969007      26.264721       25.823522   \n",
      "min       1.000000   18.000000      15.000000        1.000000   \n",
      "25%      50.750000   28.750000      41.500000       34.750000   \n",
      "50%     100.500000   36.000000      61.500000       50.000000   \n",
      "75%     150.250000   49.000000      78.000000       73.000000   \n",
      "max     200.000000   70.000000     137.000000       99.000000   \n",
      "\n",
      "       customer_id_outliers  age_outliers  annual_income_outliers  \\\n",
      "count                 200.0         200.0              200.000000   \n",
      "mean                    0.0           0.0                0.042500   \n",
      "std                     0.0           0.0                0.423931   \n",
      "min                     0.0           0.0                0.000000   \n",
      "25%                     0.0           0.0                0.000000   \n",
      "50%                     0.0           0.0                0.000000   \n",
      "75%                     0.0           0.0                0.000000   \n",
      "max                     0.0           0.0                4.250000   \n",
      "\n",
      "       spending_score_outliers  age_encoded  \n",
      "count                    200.0   200.000000  \n",
      "mean                       0.0    20.680000  \n",
      "std                        0.0    13.636251  \n",
      "min                        0.0     0.000000  \n",
      "25%                        0.0    10.750000  \n",
      "50%                        0.0    18.000000  \n",
      "75%                        0.0    31.000000  \n",
      "max                        0.0    50.000000  \n",
      "- String Columns\n",
      "--- gender\n",
      "Female    112\n",
      "Male       88\n",
      "Name: gender, dtype: int64\n"
     ]
    }
   ],
   "source": [
    "perpare_mall.peekatdata(df)"
   ]
  },
  {
   "cell_type": "code",
   "execution_count": null,
   "metadata": {},
   "outputs": [],
   "source": []
  }
 ],
 "metadata": {
  "kernelspec": {
   "display_name": "Python 3",
   "language": "python",
   "name": "python3"
  },
  "language_info": {
   "codemirror_mode": {
    "name": "ipython",
    "version": 3
   },
   "file_extension": ".py",
   "mimetype": "text/x-python",
   "name": "python",
   "nbconvert_exporter": "python",
   "pygments_lexer": "ipython3",
   "version": "3.7.1"
  }
 },
 "nbformat": 4,
 "nbformat_minor": 2
}
