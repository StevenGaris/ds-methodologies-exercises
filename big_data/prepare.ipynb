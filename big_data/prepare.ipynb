{
 "cells": [
  {
   "cell_type": "code",
   "execution_count": 1,
   "metadata": {},
   "outputs": [],
   "source": [
    "import pyspark\n",
    "import pyspark.sql.functions as F\n",
    "from pyspark.sql.functions import col, expr\n"
   ]
  },
  {
   "cell_type": "code",
   "execution_count": 2,
   "metadata": {},
   "outputs": [],
   "source": [
    "spark = pyspark.sql.SparkSession.builder.getOrCreate()\n"
   ]
  },
  {
   "cell_type": "markdown",
   "metadata": {},
   "source": [
    "## Part 1\n"
   ]
  },
  {
   "cell_type": "markdown",
   "metadata": {},
   "source": [
    "Read the case.csv file from the 311 call data into a Spark DataFrame.\n"
   ]
  },
  {
   "cell_type": "code",
   "execution_count": 3,
   "metadata": {},
   "outputs": [],
   "source": [
    "df = spark.read.csv('case.csv', header=True)"
   ]
  },
  {
   "cell_type": "code",
   "execution_count": 4,
   "metadata": {},
   "outputs": [
    {
     "data": {
      "text/plain": [
       "['case_id',\n",
       " 'case_opened_date',\n",
       " 'case_closed_date',\n",
       " 'SLA_due_date',\n",
       " 'case_late',\n",
       " 'num_days_late',\n",
       " 'case_closed',\n",
       " 'dept_division',\n",
       " 'service_request_type',\n",
       " 'SLA_days',\n",
       " 'case_status',\n",
       " 'source_id',\n",
       " 'request_address',\n",
       " 'council_district']"
      ]
     },
     "execution_count": 4,
     "metadata": {},
     "output_type": "execute_result"
    }
   ],
   "source": [
    "df.columns"
   ]
  },
  {
   "cell_type": "markdown",
   "metadata": {},
   "source": [
    "How old is the latest (in terms of days past SLA) currently open issue?"
   ]
  },
  {
   "cell_type": "code",
   "execution_count": 5,
   "metadata": {},
   "outputs": [
    {
     "name": "stdout",
     "output_type": "stream",
     "text": [
      "+----------+----------------+-----------+-----------+\n",
      "|   case_id|case_opened_date|case_status|   SLA_days|\n",
      "+----------+----------------+-----------+-----------+\n",
      "|1013863552|    9/9/17 11:43|       Open|65.86542824|\n",
      "+----------+----------------+-----------+-----------+\n",
      "only showing top 1 row\n",
      "\n"
     ]
    }
   ],
   "source": [
    "(df\n",
    " .select(df.case_id, df.case_opened_date, df.case_status, df.SLA_days)\n",
    " .where(df.case_status == 'Open')\n",
    " .sort(df.case_opened_date.desc())\n",
    " .show(1))\n",
    "\n"
   ]
  },
  {
   "cell_type": "markdown",
   "metadata": {},
   "source": [
    "How long has the oldest (in terms of days since opened) currently opened issue been open?\n"
   ]
  },
  {
   "cell_type": "code",
   "execution_count": 6,
   "metadata": {},
   "outputs": [
    {
     "name": "stdout",
     "output_type": "stream",
     "text": [
      "+----------+----------------+-----------+--------+\n",
      "|   case_id|case_opened_date|case_status|SLA_days|\n",
      "+----------+----------------+-----------+--------+\n",
      "|1014707122|   7/20/18 15:11|       Open|   999.0|\n",
      "+----------+----------------+-----------+--------+\n",
      "only showing top 1 row\n",
      "\n"
     ]
    }
   ],
   "source": [
    "(df\n",
    " .select(df.case_id, df.case_opened_date, df.case_status, df.SLA_days)\n",
    " .where(df.case_status == 'Open')\n",
    " .sort(df.SLA_days.desc())\n",
    " .show(1))\n"
   ]
  },
  {
   "cell_type": "markdown",
   "metadata": {},
   "source": [
    "How many Stray Animal cases are there?\n"
   ]
  },
  {
   "cell_type": "code",
   "execution_count": 7,
   "metadata": {},
   "outputs": [
    {
     "name": "stdout",
     "output_type": "stream",
     "text": [
      "+---------------------------+\n",
      "|count(service_request_type)|\n",
      "+---------------------------+\n",
      "|                      26760|\n",
      "+---------------------------+\n",
      "\n"
     ]
    }
   ],
   "source": [
    "(df\n",
    " .select(df.service_request_type)\n",
    " .where(df.service_request_type == 'Stray Animal')\n",
    " .agg(F.count(df.service_request_type))\n",
    " .show())"
   ]
  },
  {
   "cell_type": "markdown",
   "metadata": {},
   "source": [
    "How many service requests that are assigned to the Field Operations department (dept_division) are not classified as \"Officer Standby\" request type (service_request_type)?\n"
   ]
  },
  {
   "cell_type": "code",
   "execution_count": 8,
   "metadata": {},
   "outputs": [
    {
     "name": "stdout",
     "output_type": "stream",
     "text": [
      "+---------------------------+\n",
      "|count(service_request_type)|\n",
      "+---------------------------+\n",
      "|                     113902|\n",
      "+---------------------------+\n",
      "\n"
     ]
    }
   ],
   "source": [
    "(df\n",
    " .select(df.service_request_type, df.dept_division)\n",
    " .where(df.dept_division == 'Field Operations')\n",
    " .where(df.service_request_type != 'Officer Standby')\n",
    " .agg(F.count(df.service_request_type))\n",
    " .show())"
   ]
  },
  {
   "cell_type": "markdown",
   "metadata": {},
   "source": [
    "Create a new DataFrame without any information related to dates or location.\n"
   ]
  },
  {
   "cell_type": "code",
   "execution_count": 9,
   "metadata": {},
   "outputs": [],
   "source": [
    "new_df = df.select(df.case_id,\n",
    "                     df.case_late,\n",
    "                     df.case_closed,\n",
    "                     df.dept_division,\n",
    "                     df.service_request_type,\n",
    "                     df.case_status,\n",
    "                     df.source_id)\n",
    "\n"
   ]
  },
  {
   "cell_type": "markdown",
   "metadata": {},
   "source": [
    "Read dept.csv into a Spark DataFrame. Inspect the dept_name column. Replace the missing values with \"other\".\n"
   ]
  },
  {
   "cell_type": "code",
   "execution_count": 10,
   "metadata": {},
   "outputs": [],
   "source": [
    "dept_df = spark.read.csv('dept.csv', header=True)\n",
    "           \n",
    "dept_df = dept_df.na.fill('other', ['dept_name'])"
   ]
  },
  {
   "cell_type": "markdown",
   "metadata": {},
   "source": [
    "## Part 2\n"
   ]
  },
  {
   "cell_type": "markdown",
   "metadata": {},
   "source": [
    "Convert the council_district column to a string column.\n"
   ]
  },
  {
   "cell_type": "code",
   "execution_count": 11,
   "metadata": {},
   "outputs": [
    {
     "data": {
      "text/plain": [
       "[('case_id', 'string'),\n",
       " ('case_opened_date', 'string'),\n",
       " ('case_closed_date', 'string'),\n",
       " ('SLA_due_date', 'string'),\n",
       " ('case_late', 'string'),\n",
       " ('num_days_late', 'string'),\n",
       " ('case_closed', 'string'),\n",
       " ('dept_division', 'string'),\n",
       " ('service_request_type', 'string'),\n",
       " ('SLA_days', 'string'),\n",
       " ('case_status', 'string'),\n",
       " ('source_id', 'string'),\n",
       " ('request_address', 'string'),\n",
       " ('council_district', 'string')]"
      ]
     },
     "execution_count": 11,
     "metadata": {},
     "output_type": "execute_result"
    }
   ],
   "source": [
    "df.dtypes"
   ]
  },
  {
   "cell_type": "markdown",
   "metadata": {},
   "source": [
    "Extract the year from the case_closed_date column.\n"
   ]
  },
  {
   "cell_type": "code",
   "execution_count": 12,
   "metadata": {},
   "outputs": [
    {
     "name": "stdout",
     "output_type": "stream",
     "text": [
      "-RECORD 0------------------------------------\n",
      " case_id              | 1014127332           \n",
      " case_opened_date     | 1/1/18 0:42          \n",
      " case_closed_date     | 2018-01-01 12:29:00  \n",
      " SLA_due_date         | 9/26/20 0:42         \n",
      " case_late            | NO                   \n",
      " num_days_late        | -998.5087616000001   \n",
      " case_closed          | YES                  \n",
      " dept_division        | Field Operations     \n",
      " service_request_type | Stray Animal         \n",
      " SLA_days             | 999.0                \n",
      " case_status          | Closed               \n",
      " source_id            | svcCRMLS             \n",
      " request_address      | 2315  EL PASO ST,... \n",
      " council_district     | 5                    \n",
      " year                 | 2018                 \n",
      "only showing top 1 row\n",
      "\n"
     ]
    }
   ],
   "source": [
    "df = (df\n",
    " .withColumn('case_closed_date', F.to_timestamp(df.case_closed_date, 'M/d/y H:mm'))\n",
    " .withColumn('year', F.regexp_extract(F.col('case_closed_date'), r'\\d+', 0)))\n",
    "\n",
    "df.show(1, vertical=True)"
   ]
  },
  {
   "cell_type": "markdown",
   "metadata": {},
   "source": [
    "Convert num_days_late from days to hours in new columns num_hours_late.\n"
   ]
  },
  {
   "cell_type": "code",
   "execution_count": 13,
   "metadata": {},
   "outputs": [
    {
     "name": "stdout",
     "output_type": "stream",
     "text": [
      "-RECORD 0------------------------------------\n",
      " case_id              | 1014127332           \n",
      " case_opened_date     | 1/1/18 0:42          \n",
      " case_closed_date     | 2018-01-01 12:29:00  \n",
      " SLA_due_date         | 9/26/20 0:42         \n",
      " case_late            | NO                   \n",
      " num_days_late        | -998.5087616000001   \n",
      " case_closed          | YES                  \n",
      " dept_division        | Field Operations     \n",
      " service_request_type | Stray Animal         \n",
      " SLA_days             | 999.0                \n",
      " case_status          | Closed               \n",
      " source_id            | svcCRMLS             \n",
      " request_address      | 2315  EL PASO ST,... \n",
      " council_district     | 5                    \n",
      " year                 | 2018                 \n",
      " num_hours_late       | -23964.2102784       \n",
      "only showing top 1 row\n",
      "\n"
     ]
    }
   ],
   "source": [
    "df = (df\n",
    " .withColumn('num_hours_late', df.num_days_late * 24))\n",
    "\n",
    "df.show(1, vertical=True)"
   ]
  },
  {
   "cell_type": "markdown",
   "metadata": {},
   "source": [
    "Convert the case_late column to a boolean column.\n"
   ]
  },
  {
   "cell_type": "code",
   "execution_count": 14,
   "metadata": {},
   "outputs": [
    {
     "name": "stdout",
     "output_type": "stream",
     "text": [
      "-RECORD 0------------------------------------\n",
      " case_id              | 1014127332           \n",
      " case_opened_date     | 1/1/18 0:42          \n",
      " case_closed_date     | 2018-01-01 12:29:00  \n",
      " SLA_due_date         | 9/26/20 0:42         \n",
      " case_late            | false                \n",
      " num_days_late        | -998.5087616000001   \n",
      " case_closed          | YES                  \n",
      " dept_division        | Field Operations     \n",
      " service_request_type | Stray Animal         \n",
      " SLA_days             | 999.0                \n",
      " case_status          | Closed               \n",
      " source_id            | svcCRMLS             \n",
      " request_address      | 2315  EL PASO ST,... \n",
      " council_district     | 5                    \n",
      " year                 | 2018                 \n",
      " num_hours_late       | -23964.2102784       \n",
      "only showing top 1 row\n",
      "\n"
     ]
    }
   ],
   "source": [
    "df = (df\n",
    " .withColumn('case_late',df.case_late == 'YES'))\n",
    "\n",
    "df.show(1, vertical=True)"
   ]
  },
  {
   "cell_type": "markdown",
   "metadata": {},
   "source": [
    "Convert the SLA_days columns to a double column.\n"
   ]
  },
  {
   "cell_type": "code",
   "execution_count": 15,
   "metadata": {},
   "outputs": [
    {
     "name": "stdout",
     "output_type": "stream",
     "text": [
      "root\n",
      " |-- case_id: string (nullable = true)\n",
      " |-- case_opened_date: string (nullable = true)\n",
      " |-- case_closed_date: timestamp (nullable = true)\n",
      " |-- SLA_due_date: string (nullable = true)\n",
      " |-- case_late: boolean (nullable = true)\n",
      " |-- num_days_late: string (nullable = true)\n",
      " |-- case_closed: string (nullable = true)\n",
      " |-- dept_division: string (nullable = true)\n",
      " |-- service_request_type: string (nullable = true)\n",
      " |-- SLA_days: double (nullable = true)\n",
      " |-- case_status: string (nullable = true)\n",
      " |-- source_id: string (nullable = true)\n",
      " |-- request_address: string (nullable = true)\n",
      " |-- council_district: string (nullable = true)\n",
      " |-- year: string (nullable = true)\n",
      " |-- num_hours_late: double (nullable = true)\n",
      "\n"
     ]
    }
   ],
   "source": [
    "df = (df\n",
    " .withColumn('SLA_days', F.col('SLA_days').cast('double')))\n",
    "\n",
    "df.printSchema()"
   ]
  },
  {
   "cell_type": "markdown",
   "metadata": {},
   "source": [
    "Pull it all together\n"
   ]
  },
  {
   "cell_type": "code",
   "execution_count": 16,
   "metadata": {},
   "outputs": [],
   "source": [
    "# Reassigned during exercises so it is already done."
   ]
  },
  {
   "cell_type": "markdown",
   "metadata": {},
   "source": [
    "## Part 3\n"
   ]
  },
  {
   "cell_type": "markdown",
   "metadata": {},
   "source": [
    "Create a DataFrame with all combinations of council_district and service_request_type (regardless of whether the combination is observed in the data).\n"
   ]
  },
  {
   "cell_type": "code",
   "execution_count": 33,
   "metadata": {},
   "outputs": [
    {
     "name": "stdout",
     "output_type": "stream",
     "text": [
      "+----------------+--------------------+\n",
      "|council_district|service_request_type|\n",
      "+----------------+--------------------+\n",
      "|               7|Minimum Housing-O...|\n",
      "|               7|        Tree Removal|\n",
      "|               7| Service Information|\n",
      "|               7|    Sign Maintenance|\n",
      "|               7|Park Building Mai...|\n",
      "|               7|Brush Property Da...|\n",
      "|               7|Graffiti: Private...|\n",
      "|               7|Traffic Sign Graf...|\n",
      "|               7|License Renewal I...|\n",
      "|               7|Used/Scrap Tire F...|\n",
      "|               7|Guardrail- New Re...|\n",
      "|               7|Markings Installa...|\n",
      "|               7|CCO_Request for R...|\n",
      "|               7|   Sewer Line Broken|\n",
      "|               7|Zoning: Multi-Fam...|\n",
      "|               7|Engineering Inves...|\n",
      "|               7|    Zoning: Setbacks|\n",
      "|               7|  Traffic Sign Faded|\n",
      "|               7|     Permits, Fences|\n",
      "|               7|Certificates of O...|\n",
      "+----------------+--------------------+\n",
      "only showing top 20 rows\n",
      "\n"
     ]
    }
   ],
   "source": [
    "council_district = (df\n",
    " .select(df.council_district).distinct())\n",
    "\n",
    "service_request_type  = (df\n",
    " .select(df.service_request_type ).distinct())\n",
    "\n",
    "council_district.crossJoin(service_request_type).show()\n"
   ]
  },
  {
   "cell_type": "markdown",
   "metadata": {},
   "source": [
    "Join the case data with the source and department data.\n"
   ]
  },
  {
   "cell_type": "code",
   "execution_count": 38,
   "metadata": {},
   "outputs": [
    {
     "name": "stdout",
     "output_type": "stream",
     "text": [
      "root\n",
      " |-- case_id: string (nullable = true)\n",
      " |-- case_opened_date: string (nullable = true)\n",
      " |-- case_closed_date: timestamp (nullable = true)\n",
      " |-- SLA_due_date: string (nullable = true)\n",
      " |-- case_late: boolean (nullable = true)\n",
      " |-- num_days_late: string (nullable = true)\n",
      " |-- case_closed: string (nullable = true)\n",
      " |-- dept_division: string (nullable = true)\n",
      " |-- service_request_type: string (nullable = true)\n",
      " |-- SLA_days: double (nullable = true)\n",
      " |-- case_status: string (nullable = true)\n",
      " |-- source_id: string (nullable = true)\n",
      " |-- request_address: string (nullable = true)\n",
      " |-- council_district: string (nullable = true)\n",
      " |-- year: string (nullable = true)\n",
      " |-- num_hours_late: double (nullable = true)\n",
      "\n"
     ]
    }
   ],
   "source": [
    "df.printSchema()"
   ]
  },
  {
   "cell_type": "code",
   "execution_count": 39,
   "metadata": {},
   "outputs": [
    {
     "name": "stdout",
     "output_type": "stream",
     "text": [
      "root\n",
      " |-- dept_division: string (nullable = true)\n",
      " |-- dept_name: string (nullable = false)\n",
      " |-- standardized_dept_name: string (nullable = true)\n",
      " |-- dept_subject_to_SLA: string (nullable = true)\n",
      "\n"
     ]
    }
   ],
   "source": [
    "dept_df.printSchema()"
   ]
  },
  {
   "cell_type": "code",
   "execution_count": 62,
   "metadata": {},
   "outputs": [
    {
     "name": "stdout",
     "output_type": "stream",
     "text": [
      "root\n",
      " |-- source_id: string (nullable = true)\n",
      " |-- source_username: string (nullable = true)\n",
      "\n"
     ]
    }
   ],
   "source": [
    "source_df = spark.read.csv('source.csv', header=True)\n",
    "\n",
    "source_df.printSchema()"
   ]
  },
  {
   "cell_type": "code",
   "execution_count": 72,
   "metadata": {},
   "outputs": [
    {
     "name": "stdout",
     "output_type": "stream",
     "text": [
      "-RECORD 0--------------------------------------\n",
      " source_id              | svcCRMLS             \n",
      " dept_division          | Field Operations     \n",
      " case_id                | 1014127332           \n",
      " case_opened_date       | 1/1/18 0:42          \n",
      " case_closed_date       | 2018-01-01 12:29:00  \n",
      " SLA_due_date           | 9/26/20 0:42         \n",
      " case_late              | false                \n",
      " num_days_late          | -998.5087616000001   \n",
      " case_closed            | YES                  \n",
      " service_request_type   | Stray Animal         \n",
      " SLA_days               | 999.0                \n",
      " case_status            | Closed               \n",
      " request_address        | 2315  EL PASO ST,... \n",
      " council_district       | 5                    \n",
      " year                   | 2018                 \n",
      " num_hours_late         | -23964.2102784       \n",
      " dept_name              | Animal Care Services \n",
      " standardized_dept_name | Animal Care Services \n",
      " dept_subject_to_SLA    | YES                  \n",
      " source_username        | svcCRMLS             \n",
      "-RECORD 1--------------------------------------\n",
      " source_id              | svcCRMSS             \n",
      " dept_division          | Storm Water          \n",
      " case_id                | 1014127333           \n",
      " case_opened_date       | 1/1/18 0:46          \n",
      " case_closed_date       | 2018-01-03 08:11:00  \n",
      " SLA_due_date           | 1/5/18 8:30          \n",
      " case_late              | false                \n",
      " num_days_late          | -2.0126041669999997  \n",
      " case_closed            | YES                  \n",
      " service_request_type   | Removal Of Obstru... \n",
      " SLA_days               | 4.322222222          \n",
      " case_status            | Closed               \n",
      " request_address        | 2215  GOLIAD RD, ... \n",
      " council_district       | 3                    \n",
      " year                   | 2018                 \n",
      " num_hours_late         | -48.302500007999996  \n",
      " dept_name              | Trans & Cap Impro... \n",
      " standardized_dept_name | Trans & Cap Impro... \n",
      " dept_subject_to_SLA    | YES                  \n",
      " source_username        | svcCRMSS             \n",
      "-RECORD 2--------------------------------------\n",
      " source_id              | svcCRMSS             \n",
      " dept_division          | Storm Water          \n",
      " case_id                | 1014127334           \n",
      " case_opened_date       | 1/1/18 0:48          \n",
      " case_closed_date       | 2018-01-02 07:57:00  \n",
      " SLA_due_date           | 1/5/18 8:30          \n",
      " case_late              | false                \n",
      " num_days_late          | -3.022337963         \n",
      " case_closed            | YES                  \n",
      " service_request_type   | Removal Of Obstru... \n",
      " SLA_days               | 4.320729167          \n",
      " case_status            | Closed               \n",
      " request_address        | 102  PALFREY ST W... \n",
      " council_district       | 3                    \n",
      " year                   | 2018                 \n",
      " num_hours_late         | -72.536111112        \n",
      " dept_name              | Trans & Cap Impro... \n",
      " standardized_dept_name | Trans & Cap Impro... \n",
      " dept_subject_to_SLA    | YES                  \n",
      " source_username        | svcCRMSS             \n",
      "-RECORD 3--------------------------------------\n",
      " source_id              | svcCRMSS             \n",
      " dept_division          | Code Enforcement     \n",
      " case_id                | 1014127335           \n",
      " case_opened_date       | 1/1/18 1:29          \n",
      " case_closed_date       | 2018-01-02 08:13:00  \n",
      " SLA_due_date           | 1/17/18 8:30         \n",
      " case_late              | false                \n",
      " num_days_late          | -15.01148148         \n",
      " case_closed            | YES                  \n",
      " service_request_type   | Front Or Side Yar... \n",
      " SLA_days               | 16.29188657          \n",
      " case_status            | Closed               \n",
      " request_address        | 114  LA GARDE ST,... \n",
      " council_district       | 3                    \n",
      " year                   | 2018                 \n",
      " num_hours_late         | -360.27555552        \n",
      " dept_name              | Code Enforcement ... \n",
      " standardized_dept_name | DSD/Code Enforcement \n",
      " dept_subject_to_SLA    | YES                  \n",
      " source_username        | svcCRMSS             \n",
      "-RECORD 4--------------------------------------\n",
      " source_id              | svcCRMSS             \n",
      " dept_division          | Field Operations     \n",
      " case_id                | 1014127336           \n",
      " case_opened_date       | 1/1/18 1:34          \n",
      " case_closed_date       | 2018-01-01 13:29:00  \n",
      " SLA_due_date           | 1/1/18 4:34          \n",
      " case_late              | true                 \n",
      " num_days_late          | 0.37216435200000003  \n",
      " case_closed            | YES                  \n",
      " service_request_type   | Animal Cruelty(Cr... \n",
      " SLA_days               | 0.125                \n",
      " case_status            | Closed               \n",
      " request_address        | 734  CLEARVIEW DR... \n",
      " council_district       | 7                    \n",
      " year                   | 2018                 \n",
      " num_hours_late         | 8.931944448000001    \n",
      " dept_name              | Animal Care Services \n",
      " standardized_dept_name | Animal Care Services \n",
      " dept_subject_to_SLA    | YES                  \n",
      " source_username        | svcCRMSS             \n",
      "-RECORD 5--------------------------------------\n",
      " source_id              | svcCRMSS             \n",
      " dept_division          | Signals              \n",
      " case_id                | 1014127337           \n",
      " case_opened_date       | 1/1/18 6:28          \n",
      " case_closed_date       | 2018-01-01 14:38:00  \n",
      " SLA_due_date           | 1/31/18 8:30         \n",
      " case_late              | false                \n",
      " num_days_late          | -29.74398148         \n",
      " case_closed            | YES                  \n",
      " service_request_type   | Traffic Signal Op... \n",
      " SLA_days               | 30.08446759          \n",
      " case_status            | Closed               \n",
      " request_address        | BANDERA RD and BR... \n",
      " council_district       | 7                    \n",
      " year                   | 2018                 \n",
      " num_hours_late         | -713.8555555199999   \n",
      " dept_name              | Trans & Cap Impro... \n",
      " standardized_dept_name | Trans & Cap Impro... \n",
      " dept_subject_to_SLA    | YES                  \n",
      " source_username        | svcCRMSS             \n",
      "-RECORD 6--------------------------------------\n",
      " source_id              | svcCRMSS             \n",
      " dept_division          | Code Enforcement     \n",
      " case_id                | 1014127338           \n",
      " case_opened_date       | 1/1/18 6:57          \n",
      " case_closed_date       | 2018-01-02 15:32:00  \n",
      " SLA_due_date           | 1/17/18 8:30         \n",
      " case_late              | false                \n",
      " num_days_late          | -14.70673611         \n",
      " case_closed            | YES                  \n",
      " service_request_type   | Front Or Side Yar... \n",
      " SLA_days               | 16.06429398          \n",
      " case_status            | Closed               \n",
      " request_address        | 10133  FIGARO CAN... \n",
      " council_district       | 4                    \n",
      " year                   | 2018                 \n",
      " num_hours_late         | -352.96166664        \n",
      " dept_name              | Code Enforcement ... \n",
      " standardized_dept_name | DSD/Code Enforcement \n",
      " dept_subject_to_SLA    | YES                  \n",
      " source_username        | svcCRMSS             \n",
      "-RECORD 7--------------------------------------\n",
      " source_id              | svcCRMSS             \n",
      " dept_division          | Code Enforcement     \n",
      " case_id                | 1014127339           \n",
      " case_opened_date       | 1/1/18 6:58          \n",
      " case_closed_date       | 2018-01-02 15:32:00  \n",
      " SLA_due_date           | 1/17/18 8:30         \n",
      " case_late              | false                \n",
      " num_days_late          | -14.70662037         \n",
      " case_closed            | YES                  \n",
      " service_request_type   | Front Or Side Yar... \n",
      " SLA_days               | 16.063796300000003   \n",
      " case_status            | Closed               \n",
      " request_address        | 10133  FIGARO CAN... \n",
      " council_district       | 4                    \n",
      " year                   | 2018                 \n",
      " num_hours_late         | -352.95888888        \n",
      " dept_name              | Code Enforcement ... \n",
      " standardized_dept_name | DSD/Code Enforcement \n",
      " dept_subject_to_SLA    | YES                  \n",
      " source_username        | svcCRMSS             \n",
      "-RECORD 8--------------------------------------\n",
      " source_id              | svcCRMSS             \n",
      " dept_division          | Code Enforcement     \n",
      " case_id                | 1014127340           \n",
      " case_opened_date       | 1/1/18 6:58          \n",
      " case_closed_date       | 2018-01-02 15:32:00  \n",
      " SLA_due_date           | 1/17/18 8:30         \n",
      " case_late              | false                \n",
      " num_days_late          | -14.70662037         \n",
      " case_closed            | YES                  \n",
      " service_request_type   | Right Of Way/Side... \n",
      " SLA_days               | 16.06333333          \n",
      " case_status            | Closed               \n",
      " request_address        | 10133  FIGARO CAN... \n",
      " council_district       | 4                    \n",
      " year                   | 2018                 \n",
      " num_hours_late         | -352.95888888        \n",
      " dept_name              | Code Enforcement ... \n",
      " standardized_dept_name | DSD/Code Enforcement \n",
      " dept_subject_to_SLA    | YES                  \n",
      " source_username        | svcCRMSS             \n",
      "-RECORD 9--------------------------------------\n",
      " source_id              | svcCRMSS             \n",
      " dept_division          | Code Enforcement     \n",
      " case_id                | 1014127341           \n",
      " case_opened_date       | 1/1/18 6:59          \n",
      " case_closed_date       | 2018-01-02 15:32:00  \n",
      " SLA_due_date           | 1/17/18 8:30         \n",
      " case_late              | false                \n",
      " num_days_late          | -14.70649306         \n",
      " case_closed            | YES                  \n",
      " service_request_type   | Front Or Side Yar... \n",
      " SLA_days               | 16.0628588           \n",
      " case_status            | Closed               \n",
      " request_address        | 10133  FIGARO CAN... \n",
      " council_district       | 4                    \n",
      " year                   | 2018                 \n",
      " num_hours_late         | -352.95583344        \n",
      " dept_name              | Code Enforcement ... \n",
      " standardized_dept_name | DSD/Code Enforcement \n",
      " dept_subject_to_SLA    | YES                  \n",
      " source_username        | svcCRMSS             \n",
      "-RECORD 10-------------------------------------\n",
      " source_id              | svcCRMSS             \n",
      " dept_division          | Code Enforcement     \n",
      " case_id                | 1014127342           \n",
      " case_opened_date       | 1/1/18 7:00          \n",
      " case_closed_date       | 2018-01-02 15:32:00  \n",
      " SLA_due_date           | 1/17/18 8:30         \n",
      " case_late              | false                \n",
      " num_days_late          | -14.70649306         \n",
      " case_closed            | YES                  \n",
      " service_request_type   | Front Or Side Yar... \n",
      " SLA_days               | 16.06237269          \n",
      " case_status            | Closed               \n",
      " request_address        | 10133  FIGARO CAN... \n",
      " council_district       | 4                    \n",
      " year                   | 2018                 \n",
      " num_hours_late         | -352.95583344        \n",
      " dept_name              | Code Enforcement ... \n",
      " standardized_dept_name | DSD/Code Enforcement \n",
      " dept_subject_to_SLA    | YES                  \n",
      " source_username        | svcCRMSS             \n",
      "-RECORD 11-------------------------------------\n",
      " source_id              | svcCRMSS             \n",
      " dept_division          | Code Enforcement     \n",
      " case_id                | 1014127343           \n",
      " case_opened_date       | 1/1/18 7:02          \n",
      " case_closed_date       | 2018-01-02 15:32:00  \n",
      " SLA_due_date           | 1/17/18 8:30         \n",
      " case_late              | false                \n",
      " num_days_late          | -14.70636574         \n",
      " case_closed            | YES                  \n",
      " service_request_type   | Right Of Way/Side... \n",
      " SLA_days               | 16.06104167          \n",
      " case_status            | Closed               \n",
      " request_address        | 10133  FIGARO CAN... \n",
      " council_district       | 4                    \n",
      " year                   | 2018                 \n",
      " num_hours_late         | -352.95277776        \n",
      " dept_name              | Code Enforcement ... \n",
      " standardized_dept_name | DSD/Code Enforcement \n",
      " dept_subject_to_SLA    | YES                  \n",
      " source_username        | svcCRMSS             \n",
      "-RECORD 12-------------------------------------\n",
      " source_id              | svcCRMSS             \n",
      " dept_division          | Code Enforcement     \n",
      " case_id                | 1014127344           \n",
      " case_opened_date       | 1/1/18 7:02          \n",
      " case_closed_date       | 2018-01-02 15:33:00  \n",
      " SLA_due_date           | 1/17/18 8:30         \n",
      " case_late              | false                \n",
      " num_days_late          | -14.70625            \n",
      " case_closed            | YES                  \n",
      " service_request_type   | Front Or Side Yar... \n",
      " SLA_days               | 16.06059028          \n",
      " case_status            | Closed               \n",
      " request_address        | 10129  BOXING PAS... \n",
      " council_district       | 4                    \n",
      " year                   | 2018                 \n",
      " num_hours_late         | -352.95000000000005  \n",
      " dept_name              | Code Enforcement ... \n",
      " standardized_dept_name | DSD/Code Enforcement \n",
      " dept_subject_to_SLA    | YES                  \n",
      " source_username        | svcCRMSS             \n",
      "-RECORD 13-------------------------------------\n",
      " source_id              | svcCRMSS             \n",
      " dept_division          | Code Enforcement     \n",
      " case_id                | 1014127345           \n",
      " case_opened_date       | 1/1/18 7:03          \n",
      " case_closed_date       | 2018-01-02 15:32:00  \n",
      " SLA_due_date           | 1/17/18 8:30         \n",
      " case_late              | false                \n",
      " num_days_late          | -14.70636574         \n",
      " case_closed            | YES                  \n",
      " service_request_type   | Front Or Side Yar... \n",
      " SLA_days               | 16.06011574          \n",
      " case_status            | Closed               \n",
      " request_address        | 10129  BOXING PAS... \n",
      " council_district       | 4                    \n",
      " year                   | 2018                 \n",
      " num_hours_late         | -352.95277776        \n",
      " dept_name              | Code Enforcement ... \n",
      " standardized_dept_name | DSD/Code Enforcement \n",
      " dept_subject_to_SLA    | YES                  \n",
      " source_username        | svcCRMSS             \n",
      "-RECORD 14-------------------------------------\n",
      " source_id              | svcCRMSS             \n",
      " dept_division          | Code Enforcement     \n",
      " case_id                | 1014127346           \n",
      " case_opened_date       | 1/1/18 7:04          \n",
      " case_closed_date       | 2018-01-02 15:33:00  \n",
      " SLA_due_date           | 1/17/18 8:30         \n",
      " case_late              | false                \n",
      " num_days_late          | -14.70623843         \n",
      " case_closed            | YES                  \n",
      " service_request_type   | Right Of Way/Side... \n",
      " SLA_days               | 16.05953704          \n",
      " case_status            | Closed               \n",
      " request_address        | 10129  BOXING PAS... \n",
      " council_district       | 4                    \n",
      " year                   | 2018                 \n",
      " num_hours_late         | -352.94972232000003  \n",
      " dept_name              | Code Enforcement ... \n",
      " standardized_dept_name | DSD/Code Enforcement \n",
      " dept_subject_to_SLA    | YES                  \n",
      " source_username        | svcCRMSS             \n",
      "-RECORD 15-------------------------------------\n",
      " source_id              | svcCRMSS             \n",
      " dept_division          | Code Enforcement     \n",
      " case_id                | 1014127347           \n",
      " case_opened_date       | 1/1/18 7:04          \n",
      " case_closed_date       | 2018-01-02 15:33:00  \n",
      " SLA_due_date           | 1/17/18 8:30         \n",
      " case_late              | false                \n",
      " num_days_late          | -14.705891199999998  \n",
      " case_closed            | YES                  \n",
      " service_request_type   | Front Or Side Yar... \n",
      " SLA_days               | 16.05907407          \n",
      " case_status            | Closed               \n",
      " request_address        | 834  BARREL POINT... \n",
      " council_district       | 4                    \n",
      " year                   | 2018                 \n",
      " num_hours_late         | -352.94138879999997  \n",
      " dept_name              | Code Enforcement ... \n",
      " standardized_dept_name | DSD/Code Enforcement \n",
      " dept_subject_to_SLA    | YES                  \n",
      " source_username        | svcCRMSS             \n",
      "-RECORD 16-------------------------------------\n",
      " source_id              | svcCRMSS             \n",
      " dept_division          | Code Enforcement     \n",
      " case_id                | 1014127348           \n",
      " case_opened_date       | 1/1/18 7:05          \n",
      " case_closed_date       | 2018-01-02 15:33:00  \n",
      " SLA_due_date           | 1/17/18 8:30         \n",
      " case_late              | false                \n",
      " num_days_late          | -14.70600694         \n",
      " case_closed            | YES                  \n",
      " service_request_type   | Front Or Side Yar... \n",
      " SLA_days               | 16.05864583          \n",
      " case_status            | Closed               \n",
      " request_address        | 834  BARREL POINT... \n",
      " council_district       | 4                    \n",
      " year                   | 2018                 \n",
      " num_hours_late         | -352.94416656        \n",
      " dept_name              | Code Enforcement ... \n",
      " standardized_dept_name | DSD/Code Enforcement \n",
      " dept_subject_to_SLA    | YES                  \n",
      " source_username        | svcCRMSS             \n",
      "-RECORD 17-------------------------------------\n",
      " source_id              | svcCRMSS             \n",
      " dept_division          | Code Enforcement     \n",
      " case_id                | 1014127349           \n",
      " case_opened_date       | 1/1/18 7:06          \n",
      " case_closed_date       | 2018-01-02 15:33:00  \n",
      " SLA_due_date           | 1/17/18 8:30         \n",
      " case_late              | false                \n",
      " num_days_late          | -14.70576389         \n",
      " case_closed            | YES                  \n",
      " service_request_type   | Right Of Way/Side... \n",
      " SLA_days               | 16.05819444          \n",
      " case_status            | Closed               \n",
      " request_address        | 834  BARREL POINT... \n",
      " council_district       | 4                    \n",
      " year                   | 2018                 \n",
      " num_hours_late         | -352.93833336        \n",
      " dept_name              | Code Enforcement ... \n",
      " standardized_dept_name | DSD/Code Enforcement \n",
      " dept_subject_to_SLA    | YES                  \n",
      " source_username        | svcCRMSS             \n",
      "-RECORD 18-------------------------------------\n",
      " source_id              | svcCRMSS             \n",
      " dept_division          | Code Enforcement     \n",
      " case_id                | 1014127350           \n",
      " case_opened_date       | 1/1/18 7:06          \n",
      " case_closed_date       | 2018-01-02 15:33:00  \n",
      " SLA_due_date           | 1/17/18 8:30         \n",
      " case_late              | false                \n",
      " num_days_late          | -14.70576389         \n",
      " case_closed            | YES                  \n",
      " service_request_type   | Front Or Side Yar... \n",
      " SLA_days               | 16.05775463          \n",
      " case_status            | Closed               \n",
      " request_address        | 834  BARREL POINT... \n",
      " council_district       | 4                    \n",
      " year                   | 2018                 \n",
      " num_hours_late         | -352.93833336        \n",
      " dept_name              | Code Enforcement ... \n",
      " standardized_dept_name | DSD/Code Enforcement \n",
      " dept_subject_to_SLA    | YES                  \n",
      " source_username        | svcCRMSS             \n",
      "-RECORD 19-------------------------------------\n",
      " source_id              | svcCRMSS             \n",
      " dept_division          | Code Enforcement     \n",
      " case_id                | 1014127351           \n",
      " case_opened_date       | 1/1/18 7:07          \n",
      " case_closed_date       | 2018-01-02 15:33:00  \n",
      " SLA_due_date           | 1/17/18 8:30         \n",
      " case_late              | false                \n",
      " num_days_late          | -14.70564815         \n",
      " case_closed            | YES                  \n",
      " service_request_type   | Front Or Side Yar... \n",
      " SLA_days               | 16.05733796          \n",
      " case_status            | Closed               \n",
      " request_address        | 834  BARREL POINT... \n",
      " council_district       | 4                    \n",
      " year                   | 2018                 \n",
      " num_hours_late         | -352.9355556         \n",
      " dept_name              | Code Enforcement ... \n",
      " standardized_dept_name | DSD/Code Enforcement \n",
      " dept_subject_to_SLA    | YES                  \n",
      " source_username        | svcCRMSS             \n",
      "only showing top 20 rows\n",
      "\n"
     ]
    }
   ],
   "source": [
    "full_df = (df\n",
    " .join(dept_df, ['dept_division'], 'inner')\n",
    " .join(source_df, ['source_id'] , 'inner'))\n",
    "\n",
    "full_df.show(vertical=True)\n"
   ]
  },
  {
   "cell_type": "markdown",
   "metadata": {},
   "source": [
    "Are there any cases that do not have a request source?\n"
   ]
  },
  {
   "cell_type": "code",
   "execution_count": 146,
   "metadata": {},
   "outputs": [
    {
     "data": {
      "text/plain": [
       "0"
      ]
     },
     "execution_count": 146,
     "metadata": {},
     "output_type": "execute_result"
    }
   ],
   "source": [
    "full_df.where(full_df.source_username.isNull()).count()"
   ]
  },
  {
   "cell_type": "code",
   "execution_count": 84,
   "metadata": {},
   "outputs": [
    {
     "name": "stdout",
     "output_type": "stream",
     "text": [
      "root\n",
      " |-- source_id: string (nullable = true)\n",
      " |-- dept_division: string (nullable = true)\n",
      " |-- case_id: string (nullable = true)\n",
      " |-- case_opened_date: string (nullable = true)\n",
      " |-- case_closed_date: timestamp (nullable = true)\n",
      " |-- SLA_due_date: string (nullable = true)\n",
      " |-- case_late: boolean (nullable = true)\n",
      " |-- num_days_late: string (nullable = true)\n",
      " |-- case_closed: string (nullable = true)\n",
      " |-- service_request_type: string (nullable = true)\n",
      " |-- SLA_days: double (nullable = true)\n",
      " |-- case_status: string (nullable = true)\n",
      " |-- request_address: string (nullable = true)\n",
      " |-- council_district: string (nullable = true)\n",
      " |-- year: string (nullable = true)\n",
      " |-- num_hours_late: double (nullable = true)\n",
      " |-- dept_name: string (nullable = false)\n",
      " |-- standardized_dept_name: string (nullable = true)\n",
      " |-- dept_subject_to_SLA: string (nullable = true)\n",
      " |-- source_username: string (nullable = true)\n",
      "\n"
     ]
    }
   ],
   "source": [
    "full_df.printSchema()"
   ]
  },
  {
   "cell_type": "markdown",
   "metadata": {},
   "source": [
    "## Part 4\n"
   ]
  },
  {
   "cell_type": "markdown",
   "metadata": {},
   "source": [
    "Who are the top 10 service request types in terms of number of requests?\n"
   ]
  },
  {
   "cell_type": "code",
   "execution_count": 116,
   "metadata": {},
   "outputs": [
    {
     "name": "stdout",
     "output_type": "stream",
     "text": [
      "+--------------------------------+-------------+\n",
      "|service_request_type            |service_count|\n",
      "+--------------------------------+-------------+\n",
      "|No Pickup                       |89210        |\n",
      "|Overgrown Yard/Trash            |66403        |\n",
      "|Bandit Signs                    |32968        |\n",
      "|Damaged Cart                    |31163        |\n",
      "|Front Or Side Yard Parking      |28920        |\n",
      "|Stray Animal                    |27361        |\n",
      "|Aggressive Animal(Non-Critical) |25492        |\n",
      "|Cart Exchange Request           |22608        |\n",
      "|Junk Vehicle On Private Property|21649        |\n",
      "|Pot Hole Repair                 |20827        |\n",
      "+--------------------------------+-------------+\n",
      "only showing top 10 rows\n",
      "\n"
     ]
    }
   ],
   "source": [
    "(full_df\n",
    " .groupBy(full_df.service_request_type)\n",
    " .agg(F.count(full_df.service_request_type).alias('service_count'))\n",
    " .sort(F.count(full_df.service_request_type).desc())\n",
    " .show(10, truncate=False))"
   ]
  },
  {
   "cell_type": "markdown",
   "metadata": {},
   "source": [
    "Who are the top 10 service request types in terms of average days late?\n"
   ]
  },
  {
   "cell_type": "code",
   "execution_count": 126,
   "metadata": {},
   "outputs": [
    {
     "name": "stdout",
     "output_type": "stream",
     "text": [
      "+--------------------------------------+-----------------+\n",
      "|service_request_type                  |average_days_late|\n",
      "+--------------------------------------+-----------------+\n",
      "|Zoning: Junk Yards                    |175.96           |\n",
      "|Labeling for Used Mattress            |162.43           |\n",
      "|Record Keeping of Used Mattresses     |154.0            |\n",
      "|Signage Requied for Sale of Used Mattr|151.64           |\n",
      "|Storage of Used Mattress              |142.11           |\n",
      "|Zoning: Recycle Yard                  |135.93           |\n",
      "|Donation Container Enforcement        |131.76           |\n",
      "|License Requied Used Mattress Sales   |128.8            |\n",
      "|Traffic Signal Graffiti               |101.8            |\n",
      "|Complaint                             |72.87            |\n",
      "+--------------------------------------+-----------------+\n",
      "only showing top 10 rows\n",
      "\n"
     ]
    }
   ],
   "source": [
    "(full_df\n",
    "    .select(full_df.service_request_type,full_df.num_days_late)\n",
    "    .groupBy(full_df.service_request_type)\n",
    "    .agg(F.round(F.avg(full_df.num_days_late),2).alias('average_days_late'))\n",
    "    .sort(F.avg(full_df.num_days_late).desc())\n",
    "    .show(10, truncate=False))"
   ]
  },
  {
   "cell_type": "markdown",
   "metadata": {},
   "source": [
    "Does number of days late depend on department?\n"
   ]
  },
  {
   "cell_type": "code",
   "execution_count": 128,
   "metadata": {},
   "outputs": [
    {
     "name": "stdout",
     "output_type": "stream",
     "text": [
      "+-------------------------+-----------------+\n",
      "|dept_name                |average_days_late|\n",
      "+-------------------------+-----------------+\n",
      "|Code Enforcement Services|321984           |\n",
      "|Solid Waste Management   |286287           |\n",
      "|Animal Care Services     |119362           |\n",
      "|Trans & Cap Improvements |97841            |\n",
      "|Parks and Recreation     |19964            |\n",
      "|Metro Health             |5313             |\n",
      "|Customer Service         |2889             |\n",
      "|Development Services     |1397             |\n",
      "|other                    |198              |\n",
      "|City Council             |0                |\n",
      "+-------------------------+-----------------+\n",
      "\n"
     ]
    }
   ],
   "source": [
    "(full_df\n",
    "    .select(full_df.dept_name,full_df.num_days_late)\n",
    "    .groupBy(full_df.dept_name)\n",
    "    .agg(F.round(F.count(full_df.num_days_late),2).alias('average_days_late'))\n",
    "    .sort(F.count(full_df.num_days_late).desc())\n",
    "    .show(10, truncate=False))"
   ]
  },
  {
   "cell_type": "markdown",
   "metadata": {},
   "source": [
    "How do number of days late depend on department division and request type?\n"
   ]
  },
  {
   "cell_type": "code",
   "execution_count": 134,
   "metadata": {},
   "outputs": [
    {
     "name": "stdout",
     "output_type": "stream",
     "text": [
      "+-------------------------+--------------------------------+-----------------+\n",
      "|dept_name                |service_request_type            |average_days_late|\n",
      "+-------------------------+--------------------------------+-----------------+\n",
      "|Solid Waste Management   |No Pickup                       |89210            |\n",
      "|Code Enforcement Services|Overgrown Yard/Trash            |66403            |\n",
      "|Code Enforcement Services|Bandit Signs                    |32968            |\n",
      "|Solid Waste Management   |Damaged Cart                    |31163            |\n",
      "|Code Enforcement Services|Front Or Side Yard Parking      |28920            |\n",
      "|Animal Care Services     |Stray Animal                    |27361            |\n",
      "|Animal Care Services     |Aggressive Animal(Non-Critical) |25492            |\n",
      "|Solid Waste Management   |Cart Exchange Request           |22608            |\n",
      "|Code Enforcement Services|Junk Vehicle On Private Property|21649            |\n",
      "|Trans & Cap Improvements |Pot Hole Repair                 |20827            |\n",
      "+-------------------------+--------------------------------+-----------------+\n",
      "only showing top 10 rows\n",
      "\n"
     ]
    }
   ],
   "source": [
    "(full_df\n",
    "    .groupBy(full_df.dept_name, full_df.service_request_type)\n",
    "    .agg(F.round(F.count(full_df.num_days_late),2).alias('average_days_late'))\n",
    "    .sort(F.count(full_df.num_days_late).desc())\n",
    "    .show(10, truncate=False))"
   ]
  },
  {
   "cell_type": "code",
   "execution_count": 147,
   "metadata": {},
   "outputs": [],
   "source": [
    "full_df.write.csv('full_311', header=True, mode='overwrite')\n"
   ]
  },
  {
   "cell_type": "code",
   "execution_count": null,
   "metadata": {},
   "outputs": [],
   "source": []
  }
 ],
 "metadata": {
  "kernelspec": {
   "display_name": "Python 3",
   "language": "python",
   "name": "python3"
  },
  "language_info": {
   "codemirror_mode": {
    "name": "ipython",
    "version": 3
   },
   "file_extension": ".py",
   "mimetype": "text/x-python",
   "name": "python",
   "nbconvert_exporter": "python",
   "pygments_lexer": "ipython3",
   "version": "3.7.1"
  }
 },
 "nbformat": 4,
 "nbformat_minor": 2
}
